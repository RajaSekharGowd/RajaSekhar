{
 "cells": [
  {
   "cell_type": "markdown",
   "metadata": {},
   "source": [
    "## Problem Statement"
   ]
  },
  {
   "cell_type": "markdown",
   "metadata": {},
   "source": [
    "### 1.1 Write a Python Program to implement your own myreduce() function which works exactly like Python's built-in function reduce()\n"
   ]
  },
  {
   "cell_type": "code",
   "execution_count": 1,
   "metadata": {},
   "outputs": [
    {
     "name": "stdout",
     "output_type": "stream",
     "text": [
      "Sum on list [1,2,3] using custom reduce function 6\n"
     ]
    }
   ],
   "source": [
    "def myreduce(func, sequence):\n",
    "    result = sequence[0]\n",
    "    for item in sequence[1:]:\n",
    "        result = func(result, item)\n",
    "    return result\n",
    "def sum(x,y): return x + y\n",
    "print (\"Sum on list [1,2,3] using custom reduce function \"   + str(myreduce(sum, [1,2,3])) )"
   ]
  },
  {
   "cell_type": "markdown",
   "metadata": {},
   "source": [
    "### 1.2 Write a Python program to implement your own myfilter() function which works exactly like Python's built-in function filter()"
   ]
  },
  {
   "cell_type": "code",
   "execution_count": 2,
   "metadata": {},
   "outputs": [
    {
     "name": "stdout",
     "output_type": "stream",
     "text": [
      "custom filter function: [1, 3, 5, 7, 9]\n"
     ]
    }
   ],
   "source": [
    "# Custom filter function \n",
    "def myfilter(fun, sequence):\n",
    "    result = []\n",
    "    for i in sequence:\n",
    "        if fun(i):\n",
    "            result.append(i)\n",
    "    return result\n",
    "\n",
    "# test myfilter function\n",
    "def isodd(x):\n",
    "    if (x%2!=0): \n",
    "        return True\n",
    "    else: \n",
    "        return False\n",
    "\n",
    "print (\"custom filter function: \"  + str(myfilter(isodd, [1,2,3,4,5,6,7,8,9,10])))"
   ]
  },
  {
   "cell_type": "markdown",
   "metadata": {},
   "source": [
    "### 2. Implement List comprehensions to produce the following lists.\n",
    "   Write List comprehensions to produce the following Lists\n",
    "   \n",
    "    ['A', 'C', 'A', 'D', 'G', 'I', ’L’, ‘ D’]\n",
    "   \n",
    "    ['x', 'xx', 'xxx', 'xxxx', 'y', 'yy', 'yyy', 'yyyy', 'z', 'zz', 'zzz', 'zzzz']\n",
    "\n",
    "    ['x', 'y', 'z', 'xx', 'yy', 'zz', 'xx', 'yy', 'zz', 'xxxx', 'yyyy', 'zzzz']\n",
    "    \n",
    "    [[2], [3], [4], [3], [4], [5], [4], [5], [6]]\n",
    "\n",
    "    [[2, 3, 4, 5], [3, 4, 5, 6], [4, 5, 6, 7], [5, 6, 7, 8]]\n",
    "\n",
    "    [(1, 1), (2, 1), (3, 1), (1, 2), (2, 2), (3, 2), (1, 3), (2, 3), (3, 3)]"
   ]
  },
  {
   "cell_type": "code",
   "execution_count": 3,
   "metadata": {},
   "outputs": [
    {
     "name": "stdout",
     "output_type": "stream",
     "text": [
      "['A', 'C', 'A', 'D', 'G', 'I', 'L', 'D']\n",
      "['x', 'xx', 'xxx', 'xxxx', 'y', 'yy', 'yyy', 'yyyy', 'z', 'zz', 'zzz', 'zzzz']\n",
      "['x', 'y', 'z', 'xx', 'yy', 'zz', 'xxx', 'yyy', 'zzz', 'xxxx', 'yyyy', 'zzzz']\n",
      "[[2], [3], [4], [3], [4], [5], [4], [5], [6]]\n",
      "[[2, 3, 4], [3, 4, 5], [4, 5, 6], [5, 6, 7]]\n",
      "[(1, 1), (1, 2), (1, 3), (2, 1), (2, 2), (2, 3), (3, 1), (3, 2), (3, 3)]\n"
     ]
    }
   ],
   "source": [
    "word = \"ACADGILD\"\n",
    "alphabet_list = [ alphabet for alphabet in word ]\n",
    "print (str(alphabet_list))\n",
    "\n",
    "xyz = ['x','y','z']\n",
    "result = [ item*num for item in xyz for num in range(1,5)  ]\n",
    "print(str(result))\n",
    "\n",
    "result1 = [item*num for num in range(1,5) for item in xyz ]\n",
    "print(str(result1))\n",
    "\n",
    "x = [2,3,4]\n",
    "result2=[[item+num] for item in x for num in range(0,3)]\n",
    "print(str(result2))\n",
    "\n",
    "result3=[[item+num for item in x] for num in range(0,4)]\n",
    "print(str(result3))\n",
    "\n",
    "y = [1,2,3]\n",
    "result3=[(item,num) for item in y for num in y]\n",
    "print(str(result3))"
   ]
  },
  {
   "cell_type": "markdown",
   "metadata": {},
   "source": [
    "### 3. Implement a function longestWord() that takes a list of words and returns the longest one."
   ]
  },
  {
   "cell_type": "code",
   "execution_count": 4,
   "metadata": {},
   "outputs": [
    {
     "name": "stdout",
     "output_type": "stream",
     "text": [
      "(33, 'Deep Learning and Computer Vision')\n"
     ]
    }
   ],
   "source": [
    "\n",
    "def logestWord(word_list):\n",
    "    word_len = []\n",
    "    for i in word_list:\n",
    "        word_len.append((len(i),i))\n",
    "    word_len.sort(reverse=True)\n",
    "    return word_len[0]\n",
    "print(logestWord([\"Machine Learning\", \"Deep Learning and Computer Vision\", \"Artificial Inteligence\"]) )"
   ]
  },
  {
   "cell_type": "markdown",
   "metadata": {},
   "source": [
    "## Task-2\n",
    "### 1.1Write a Python Program(with class concepts) to find the area of the triangle using the below formula.       \n",
    "area = (s*(s-a)*(s-b)*(s-c)) ** 0.5\n",
    "\n",
    "Function to take the length of the sides of triangle from user should be defined in the parent\n",
    "class and function to calculate the area should be defined in subclass."
   ]
  },
  {
   "cell_type": "code",
   "execution_count": 5,
   "metadata": {},
   "outputs": [
    {
     "name": "stdout",
     "output_type": "stream",
     "text": [
      "enter the side A value:3\n",
      "enter the side B value:4\n",
      "enter the side C value:5\n",
      "the area of the triangel is : 6.0\n"
     ]
    }
   ],
   "source": [
    "class parent():\n",
    "    def user_input(side):\n",
    "        side.a=int(input('enter the side A value:'))\n",
    "        side.b=int(input('enter the side B value:'))\n",
    "        side.c=int(input('enter the side C value:'))\n",
    "        \n",
    "class child(parent):\n",
    "    def __init__(self):\n",
    "        super().user_input()\n",
    "        \n",
    "    def area(side):\n",
    "        a = side.a\n",
    "        b = side.b\n",
    "        c = side.c \n",
    "        s = (a + b + c )/2; \n",
    "        output=(s*(s-a)*(s-b)*(s-c))**0.5\n",
    "        \n",
    "        return output\n",
    "    \n",
    "trianlge=child()\n",
    "print('the area of the triangel is :',trianlge.area() )\n"
   ]
  },
  {
   "cell_type": "markdown",
   "metadata": {},
   "source": [
    "### 1.2 Write a function filter_long_words() that takes a list of words and an integer n and returns the list of words that are longer than n."
   ]
  },
  {
   "cell_type": "code",
   "execution_count": 6,
   "metadata": {},
   "outputs": [
    {
     "data": {
      "text/plain": [
       "['Australia', 'North America', 'South America', 'Antarctica']"
      ]
     },
     "execution_count": 6,
     "metadata": {},
     "output_type": "execute_result"
    }
   ],
   "source": [
    "def filter_long_words(lst,n):\n",
    "    l=[]\n",
    "    for items in lst:\n",
    "        if len(items)>n:\n",
    "            l.append(items)\n",
    "    return l\n",
    "filter_long_words(['Asia', 'Africa', 'Europe', 'Australia', 'North America', 'South America', 'Antarctica'],7)"
   ]
  },
  {
   "cell_type": "markdown",
   "metadata": {},
   "source": [
    "### 2.1 Write a Python program using function concept that maps list of words into a list of integers\n",
    "representing the lengths of the corresponding words.\n",
    "    \n",
    "    Hint: If a list [ ab,cde,erty] is passed on to the python function output should come as [2,3,4]\n",
    "    Here 2,3 and 4 are the lengths of the words in the list."
   ]
  },
  {
   "cell_type": "code",
   "execution_count": 7,
   "metadata": {},
   "outputs": [
    {
     "data": {
      "text/plain": [
       "[12, 13, 15]"
      ]
     },
     "execution_count": 7,
     "metadata": {},
     "output_type": "execute_result"
    }
   ],
   "source": [
    "def words(x):\n",
    "    lis=[]\n",
    "    for items in x:\n",
    "        items=len(items)\n",
    "        lis.append(items)\n",
    "    return lis\n",
    "\n",
    "\n",
    "words(['Indian Ocean', 'Pacific Ocean', 'Antarctic Ocean'])"
   ]
  },
  {
   "cell_type": "markdown",
   "metadata": {},
   "source": [
    " ### 3. Write a Python function which takes a character (i.e. a string of length 1) and returns True if it is\n",
    "a vowel, False otherwise."
   ]
  },
  {
   "cell_type": "code",
   "execution_count": 8,
   "metadata": {},
   "outputs": [
    {
     "name": "stdout",
     "output_type": "stream",
     "text": [
      "True\n",
      "True\n",
      "False\n"
     ]
    }
   ],
   "source": [
    "def isvowel(char):\n",
    "    vowels='a,e,i,o,u,A,E,I,O,U'\n",
    "    return char in vowels\n",
    "print(isvowel('i'))\n",
    "print(isvowel('u'))\n",
    "print(isvowel('s'))\n"
   ]
  },
  {
   "cell_type": "markdown",
   "metadata": {},
   "source": [
    "## Great job!"
   ]
  }
 ],
 "metadata": {
  "kernelspec": {
   "display_name": "Python 3",
   "language": "python",
   "name": "python3"
  },
  "language_info": {
   "codemirror_mode": {
    "name": "ipython",
    "version": 3
   },
   "file_extension": ".py",
   "mimetype": "text/x-python",
   "name": "python",
   "nbconvert_exporter": "python",
   "pygments_lexer": "ipython3",
   "version": "3.7.7"
  }
 },
 "nbformat": 4,
 "nbformat_minor": 2
}
